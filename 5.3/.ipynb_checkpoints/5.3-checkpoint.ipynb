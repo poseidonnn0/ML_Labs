{
 "cells": [
  {
   "cell_type": "code",
   "execution_count": 1,
   "id": "93ea3c45",
   "metadata": {},
   "outputs": [
    {
     "name": "stdout",
     "output_type": "stream",
     "text": [
      "Accuracy: 0.7727272727272727\n"
     ]
    }
   ],
   "source": [
    "import pandas as pd\n",
    "from sklearn.model_selection import train_test_split\n",
    "from sklearn.ensemble import RandomForestClassifier\n",
    "from sklearn.tree import DecisionTreeClassifier\n",
    "from sklearn.metrics import accuracy_score\n",
    "from sklearn.tree import export_graphviz\n",
    "import graphviz\n",
    "\n",
    "# Загрузка данных\n",
    "data = pd.read_csv('diabetes.csv')\n",
    "\n",
    "# Разделение данных на признаки и целевую переменную\n",
    "X = data.drop('Outcome', axis=1)\n",
    "y = data['Outcome']\n",
    "\n",
    "# предположим, что X - это ваши данные, а y - это метки\n",
    "X_train, X_test, y_train, y_test = train_test_split(X, y, test_size=0.2, random_state=42)\n",
    "\n",
    "model = RandomForestClassifier(n_estimators=100, max_depth=5)\n",
    "model.fit(X_train, y_train)\n",
    "\n",
    "y_pred = model.predict(X_test)\n",
    "print(\"Accuracy:\", accuracy_score(y_test, y_pred))\n"
   ]
  },
  {
   "cell_type": "code",
   "execution_count": 2,
   "id": "59f62bfe",
   "metadata": {},
   "outputs": [
    {
     "name": "stdout",
     "output_type": "stream",
     "text": [
      "Accuracy: 0.7727272727272727\n",
      "Training time: 0.058968544006347656\n"
     ]
    }
   ],
   "source": [
    "import xgboost as xgb\n",
    "from sklearn.metrics import accuracy_score\n",
    "import time\n",
    "\n",
    "# Предположим, что X - это ваши данные, а y - это метки\n",
    "X_train, X_test, y_train, y_test = train_test_split(X, y, test_size=0.2, random_state=42)\n",
    "\n",
    "start_time = time.time()\n",
    "model = xgb.XGBClassifier(\n",
    "    n_estimators=150, \n",
    "    max_depth=5, \n",
    "    learning_rate=0.06, \n",
    "    subsample=1,  \n",
    "    gamma=1, \n",
    "    reg_alpha=0, \n",
    "    reg_lambda=200\n",
    ")\n",
    "model.fit(X_train, y_train)\n",
    "end_time = time.time()\n",
    "\n",
    "y_pred = model.predict(X_test)\n",
    "print(\"Accuracy:\", accuracy_score(y_test, y_pred))\n",
    "print(\"Training time:\", end_time - start_time)\n"
   ]
  },
  {
   "cell_type": "code",
   "execution_count": 3,
   "id": "50390799",
   "metadata": {},
   "outputs": [
    {
     "name": "stdout",
     "output_type": "stream",
     "text": [
      "Fitting 5 folds for each of 25 candidates, totalling 125 fits\n",
      "Best parameters found:  {'subsample': 0.6, 'reg_lambda': 1, 'reg_alpha': 1, 'n_estimators': 50, 'max_depth': 5, 'learning_rate': 0.1, 'gamma': 1, 'colsample_bytree': 1.0}\n",
      "Best accuracy found:  0.7785152605624417\n"
     ]
    }
   ],
   "source": [
    "from sklearn.model_selection import RandomizedSearchCV\n",
    "\n",
    "param_dist = {\n",
    "    'n_estimators': [50, 100, 150, 200],\n",
    "    'max_depth': [3, 5, 7, 9],\n",
    "    'learning_rate': [0.01, 0.05, 0.1, 0.2],\n",
    "    'subsample': [0.6, 0.8, 1.0],\n",
    "    'colsample_bytree': [0.6, 0.8, 1.0],\n",
    "    'gamma': [0, 0.5, 1],\n",
    "    'reg_alpha': [0, 0.5, 1],\n",
    "    'reg_lambda': [0.5, 1, 1.5]\n",
    "}\n",
    "\n",
    "model = xgb.XGBClassifier()\n",
    "random_search = RandomizedSearchCV(model, param_distributions=param_dist, n_iter=25, scoring='accuracy', n_jobs=-1, cv=5, verbose=3)\n",
    "random_search.fit(X_train, y_train)\n",
    "\n",
    "print(\"Best parameters found: \", random_search.best_params_)\n",
    "print(\"Best accuracy found: \", random_search.best_score_)\n"
   ]
  },
  {
   "cell_type": "code",
   "execution_count": 10,
   "id": "babadeeb",
   "metadata": {},
   "outputs": [
    {
     "name": "stdout",
     "output_type": "stream",
     "text": [
      "100%|█████████████████████████████████████████████| 100/100 [00:36<00:00,  2.77trial/s, best loss: -0.7817406370785018]\n",
      "Лучшие гиперпараметры:  {'colsample_bytree': 0.8508104129014503, 'gamma': 0.4498388751175088, 'learning_rate': 0.08121508202868899, 'max_depth': 9.0, 'n_estimators': 74.0, 'reg_alpha': 0.35690174108889133, 'reg_lambda': 1.464916348060583, 'subsample': 0.6852148426014755}\n"
     ]
    }
   ],
   "source": [
    "from hyperopt import hp, fmin, tpe, STATUS_OK, Trials\n",
    "from sklearn.model_selection import cross_val_score\n",
    "\n",
    "space = {\n",
    "    'n_estimators': hp.quniform('n_estimators', 50, 200, 1),\n",
    "    'max_depth': hp.quniform('max_depth', 3, 9, 1),\n",
    "    'learning_rate': hp.uniform('learning_rate', 0.01, 0.2),\n",
    "    'subsample': hp.uniform('subsample', 0.6, 1),\n",
    "    'colsample_bytree': hp.uniform('colsample_bytree', 0.6, 1),\n",
    "    'gamma': hp.uniform('gamma', 0, 1),\n",
    "    'reg_alpha': hp.uniform('reg_alpha', 0, 1),\n",
    "    'reg_lambda': hp.uniform('reg_lambda', 0.5, 1.5)\n",
    "}\n",
    "\n",
    "def objective(space):\n",
    "    model = xgb.XGBClassifier(\n",
    "        n_estimators =int(space['n_estimators']), \n",
    "        max_depth = int(space['max_depth']), \n",
    "        learning_rate = space['learning_rate'],\n",
    "        subsample = space['subsample'],\n",
    "        colsample_bytree = space['colsample_bytree'],\n",
    "        gamma = space['gamma'],\n",
    "        reg_alpha = space['reg_alpha'],\n",
    "        reg_lambda = space['reg_lambda']\n",
    "    )\n",
    "    accuracy = cross_val_score(model, X_train, y_train, cv=5).mean()\n",
    "\n",
    "    return {'loss': -accuracy, 'status': STATUS_OK }\n",
    "\n",
    "trials = Trials()\n",
    "best = fmin(\n",
    "    fn=objective,  # функция, которую мы хотим минимизировать\n",
    "    space=space,  # пространство поиска\n",
    "    algo=tpe.suggest,  # алгоритм для использования\n",
    "    max_evals=100,  # максимальное количество итераций\n",
    "    trials=trials  # объект Trials для сохранения истории\n",
    ")\n",
    "\n",
    "print(\"Лучшие гиперпараметры: \", best)"
   ]
  },
  {
   "cell_type": "code",
   "execution_count": null,
   "id": "9b86d82b",
   "metadata": {},
   "outputs": [],
   "source": []
  }
 ],
 "metadata": {
  "kernelspec": {
   "display_name": "Python 3 (ipykernel)",
   "language": "python",
   "name": "python3"
  },
  "language_info": {
   "codemirror_mode": {
    "name": "ipython",
    "version": 3
   },
   "file_extension": ".py",
   "mimetype": "text/x-python",
   "name": "python",
   "nbconvert_exporter": "python",
   "pygments_lexer": "ipython3",
   "version": "3.10.2"
  }
 },
 "nbformat": 4,
 "nbformat_minor": 5
}
