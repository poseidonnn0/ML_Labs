{
 "cells": [
  {
   "cell_type": "code",
   "execution_count": 25,
   "id": "db359f64",
   "metadata": {},
   "outputs": [
    {
     "name": "stdout",
     "output_type": "stream",
     "text": [
      "Введите имя CSV файла: student_scores.csv\n",
      "Введите имя столбца X: Hours\n",
      "Введите имя столбца Y: Scores\n",
      "    Hours  Scores\n",
      "0     2.5      21\n",
      "1     5.1      47\n",
      "2     3.2      27\n",
      "3     8.5      75\n",
      "4     3.5      30\n",
      "5     1.5      20\n",
      "6     9.2      88\n",
      "7     5.5      60\n",
      "8     8.3      81\n",
      "9     2.7      25\n",
      "10    7.7      85\n",
      "11    5.9      62\n",
      "12    4.5      41\n",
      "13    3.3      42\n",
      "14    1.1      17\n",
      "15    8.9      95\n",
      "16    2.5      30\n",
      "17    1.9      24\n",
      "18    6.1      67\n",
      "19    7.4      69\n",
      "20    2.7      30\n",
      "21    4.8      54\n",
      "22    3.8      35\n",
      "23    6.9      76\n",
      "24    7.8      86\n",
      "Количество строк: 25\n",
      "<class 'pandas.core.frame.DataFrame'>\n",
      "RangeIndex: 25 entries, 0 to 24\n",
      "Data columns (total 2 columns):\n",
      " #   Column  Non-Null Count  Dtype  \n",
      "---  ------  --------------  -----  \n",
      " 0   Hours   25 non-null     float64\n",
      " 1   Scores  25 non-null     int64  \n",
      "dtypes: float64(1), int64(1)\n",
      "memory usage: 528.0 bytes\n",
      "None\n",
      "   Hours  Scores\n",
      "0    2.5      21\n",
      "1    5.1      47\n",
      "2    3.2      27\n",
      "3    8.5      75\n",
      "4    3.5      30\n"
     ]
    }
   ],
   "source": [
    "import pandas as pd\n",
    "import numpy as np\n",
    "import matplotlib.pyplot as plt\n",
    "import os\n",
    "\n",
    "\n",
    "# Загрузка данных из CSV-файла in df = DataFrame\n",
    "\n",
    "def choose_file():\n",
    "    filename = input(\"Введите имя CSV файла: \")\n",
    "    while not os.path.isfile(filename):\n",
    "        filename = input(\"Файл не найден. Повторите ввод: \")\n",
    "    return filename\n",
    "\n",
    "# Загрузка данных\n",
    "filename = choose_file()\n",
    "df = pd.read_csv(filename)\n",
    "\n",
    "#df = pd.read_csv(\"student_scores.csv\")\n",
    "\n",
    "# Присвоение названий столбцам\n",
    "def choose_columns(data):\n",
    "    columns = list(data.columns)\n",
    "    while True:\n",
    "        x_column = input(\"Введите имя столбца X: \")\n",
    "        if x_column in columns:\n",
    "            break\n",
    "        else:\n",
    "            print(\"Столбец не найден.\")\n",
    "\n",
    "    while True:\n",
    "        y_column = input(\"Введите имя столбца Y: \")\n",
    "        if y_column in columns and y_column != x_column:\n",
    "            break\n",
    "        else:\n",
    "            print(\"Столбец не найден или совпадает с X.\")\n",
    "\n",
    "    return x_column, y_column\n",
    "\n",
    "x_column, y_column = choose_columns(df)\n",
    "\n",
    "print(df)\n",
    "\n",
    "# Количество строк\n",
    "print(f\"Количество строк: {df.shape[0]}\")\n",
    "\n",
    "# Проверка информации о DataFrame\n",
    "print(df.info())\n",
    "\n",
    "# Вывод первых пяти строк\n",
    "print(df.head())\n"
   ]
  },
  {
   "cell_type": "code",
   "execution_count": 26,
   "id": "170c8663",
   "metadata": {},
   "outputs": [
    {
     "name": "stdout",
     "output_type": "stream",
     "text": [
      "\n",
      "Descriptive statistics of whole dataframe:\n",
      "\n",
      "           Hours     Scores\n",
      "count  25.000000  25.000000\n",
      "mean    5.012000  51.480000\n",
      "std     2.525094  25.286887\n",
      "min     1.100000  17.000000\n",
      "25%     2.700000  30.000000\n",
      "50%     4.800000  47.000000\n",
      "75%     7.400000  75.000000\n",
      "max     9.200000  95.000000\n"
     ]
    }
   ],
   "source": [
    "#Вывод статистики столбцов (количество строк, среднее значение, минимум, максимум и остальное)\n",
    "print(\"\\nDescriptive statistics of whole dataframe:\\n\")\n",
    "stats = df.describe(include='all')\n",
    "print(stats)"
   ]
  },
  {
   "cell_type": "code",
   "execution_count": 27,
   "id": "3491d497",
   "metadata": {},
   "outputs": [
    {
     "data": {
      "image/png": "[encoded data removed]",
      "text/plain": [
       "<Figure size 432x288 with 1 Axes>"
      ]
     },
     "metadata": {
      "needs_background": "light"
     },
     "output_type": "display_data"
    }
   ],
   "source": [
    "# Выбираем данные со столбцов\n",
    "x_data = df[x_column]\n",
    "y_data = df[y_column]\n",
    "# Отрисовка точек\n",
    "plt.scatter(x_data, y_data)\n",
    "plt.xlabel(\"x\")\n",
    "plt.ylabel(\"y\")\n",
    "plt.title(\"Исходные данные\")\n",
    "plt.show()"
   ]
  },
  {
   "cell_type": "code",
   "execution_count": 28,
   "id": "2c51a8da",
   "metadata": {},
   "outputs": [
    {
     "name": "stdout",
     "output_type": "stream",
     "text": [
      "Коэффициент a: 2.48367340537321\n",
      "Коэффициент b: 9.775803390787468\n"
     ]
    }
   ],
   "source": [
    "def least_squares(x_data, y_data):\n",
    "    # Вычисление коэффициентов\n",
    "    n = len(x_data)\n",
    "    sum_x = sum(x_data)\n",
    "    sum_y = sum(y_data)\n",
    "    sum_xy = sum(x * y for x, y in zip(x_data, y_data))\n",
    "    sum_x2 = sum(x * x for x in x_data)\n",
    "\n",
    "    b = (sum_xy - sum_x * sum_y / n) / (sum_x2 - sum_x ** 2 / n)\n",
    "    a = (sum_y / n) - b * (sum_x / n)\n",
    "\n",
    "    return a, b\n",
    "\n",
    "# Вычисление параметров\n",
    "a, b = least_squares(x_data, y_data)\n",
    "\n",
    "print(f\"Коэффициент a: {a}\")\n",
    "print(f\"Коэффициент b: {b}\")"
   ]
  },
  {
   "cell_type": "code",
   "execution_count": 29,
   "id": "3c526ba9",
   "metadata": {},
   "outputs": [
    {
     "data": {
      "image/png": "[encoded data removed]",
      "text/plain": [
       "<Figure size 432x288 with 1 Axes>"
      ]
     },
     "metadata": {
      "needs_background": "light"
     },
     "output_type": "display_data"
    }
   ],
   "source": [
    "# Отрисовка линии\n",
    "regression_line = [a + b * x for x in x_data]\n",
    "plt.plot(x_data, regression_line, color=\"red\")\n",
    "\n",
    "# Повторное отображение точек\n",
    "plt.scatter(x_data, y_data)\n",
    "plt.xlabel(\"x\")\n",
    "plt.ylabel(\"y\")\n",
    "plt.title(\"Регрессионная прямая\")\n",
    "plt.show()"
   ]
  },
  {
   "cell_type": "code",
   "execution_count": 17,
   "id": "e02de500",
   "metadata": {},
   "outputs": [
    {
     "data": {
      "image/png": "[encoded data removed]",
      "text/plain": [
       "<Figure size 432x288 with 1 Axes>"
      ]
     },
     "metadata": {
      "needs_background": "light"
     },
     "output_type": "display_data"
    }
   ],
   "source": [
    "# Вычисление квадратов ошибок\n",
    "residuals = [(y - (a + b * x)) ** 2 for y, x in zip(y_data, x_data)]\n",
    "\n",
    "# Отрисовка квадратов ошибок\n",
    "plt.scatter(x_data, residuals)\n",
    "plt.xlabel(\"x\")\n",
    "plt.ylabel(\"Квадраты ошибок\")\n",
    "plt.title(\"Квадраты ошибок\")\n",
    "plt.show()"
   ]
  },
  {
   "cell_type": "code",
   "execution_count": 41,
   "id": "ec7b6674",
   "metadata": {},
   "outputs": [
    {
     "data": {
      "image/png": "[encoded data removed]",
      "text/plain": [
       "<Figure size 432x288 with 1 Axes>"
      ]
     },
     "metadata": {
      "needs_background": "light"
     },
     "output_type": "display_data"
    },
    {
     "data": {
      "image/png": "[encoded data removed]",
      "text/plain": [
       "<Figure size 432x288 with 1 Axes>"
      ]
     },
     "metadata": {
      "needs_background": "light"
     },
     "output_type": "display_data"
    },
    {
     "data": {
      "image/png": "[encoded data removed]",
      "text/plain": [
       "<Figure size 432x288 with 1 Axes>"
      ]
     },
     "metadata": {
      "needs_background": "light"
     },
     "output_type": "display_data"
    }
   ],
   "source": [
    "#Отображение 3 изображений одновременно:\n",
    "plt.scatter(x_data, y_data)\n",
    "plt.xlabel(\"x\")\n",
    "plt.ylabel(\"y\")\n",
    "plt.title(\"Исходные данные\")\n",
    "plt.show()\n",
    "regression_line = [a + b * x for x in x_data]\n",
    "plt.plot(x_data, regression_line, color=\"red\")\n",
    "plt.show()\n",
    "regression_line = [a + b * x for x in x_data]\n",
    "plt.plot(x_data, regression_line, color=\"red\")\n",
    "plt.scatter(x_data, y_data)\n",
    "plt.xlabel(\"x\")\n",
    "plt.ylabel(\"y\")\n",
    "plt.title(\"Регрессионная прямая\")\n",
    "plt.show()"
   ]
  },
  {
   "cell_type": "code",
   "execution_count": null,
   "id": "ba09b65c",
   "metadata": {},
   "outputs": [],
   "source": []
  },
  {
   "cell_type": "code",
   "execution_count": null,
   "id": "4c77221d",
   "metadata": {},
   "outputs": [],
   "source": []
  }
 ],
 "metadata": {
  "kernelspec": {
   "display_name": "Python 3 (ipykernel)",
   "language": "python",
   "name": "python3"
  },
  "language_info": {
   "codemirror_mode": {
    "name": "ipython",
    "version": 3
   },
   "file_extension": ".py",
   "mimetype": "text/x-python",
   "name": "python",
   "nbconvert_exporter": "python",
   "pygments_lexer": "ipython3",
   "version": "3.10.2"
  }
 },
 "nbformat": 4,
 "nbformat_minor": 5
}
