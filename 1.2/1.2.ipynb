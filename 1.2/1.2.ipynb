{
 "cells": [
  {
   "cell_type": "code",
   "execution_count": 10,
   "id": "992384ee",
   "metadata": {},
   "outputs": [
    {
     "name": "stdout",
     "output_type": "stream",
     "text": [
      "Coefficients (Scikit-Learn): \n",
      " [938.23786125]\n",
      "Coefficients (Your Method): \n",
      " 152.91886182616167 938.2378612512633\n",
      "    Actual  Predicted (Scikit-Learn)\n",
      "0    233.0                225.973240\n",
      "1     91.0                115.747634\n",
      "2    111.0                163.276106\n",
      "3    152.0                114.736390\n",
      "4    120.0                120.803854\n",
      "5     67.0                158.219886\n",
      "6    310.0                236.085681\n",
      "7     94.0                121.815098\n",
      "8    183.0                 99.567728\n",
      "9     66.0                123.837587\n",
      "10   173.0                204.737114\n",
      "11    72.0                 96.533996\n",
      "12    49.0                154.174909\n",
      "13    64.0                130.916295\n",
      "14    48.0                 83.387823\n",
      "15   178.0                171.366059\n",
      "16   104.0                137.995004\n",
      "17   132.0                137.995004\n",
      "18   220.0                189.568453\n",
      "19    57.0                 84.399067\n"
     ]
    },
    {
     "data": {
      "image/png": "[encoded data removed]",
      "text/plain": [
       "<Figure size 432x288 with 1 Axes>"
      ]
     },
     "metadata": {
      "needs_background": "light"
     },
     "output_type": "display_data"
    }
   ],
   "source": [
    "import numpy as np\n",
    "import matplotlib.pyplot as plt\n",
    "from sklearn import datasets, linear_model\n",
    "from sklearn.metrics import mean_squared_error, r2_score\n",
    "import pandas as pd\n",
    "\n",
    "# Мой метод\n",
    "def least_squares(x_data, y_data):\n",
    "    # Вычисление коэффициентов\n",
    "    n = len(x_data)\n",
    "    sum_x = sum(x_data)\n",
    "    sum_y = sum(y_data)\n",
    "    sum_xy = sum(x * y for x, y in zip(x_data, y_data))\n",
    "    sum_x2 = sum(x * x for x in x_data)\n",
    "\n",
    "    b = (sum_xy - sum_x * sum_y / n) / (sum_x2 - sum_x ** 2 / n)\n",
    "    a = (sum_y / n) - b * (sum_x / n)\n",
    "\n",
    "    return a, b\n",
    "\n",
    "# 1. Загрузка набора данных diabetes\n",
    "diabetes = datasets.load_diabetes()\n",
    "\n",
    "# 2. Исследование данных и выбор подходящего столбца для линейной регрессии\n",
    "diabetes_X = diabetes.data[:, np.newaxis, 2]\n",
    "\n",
    "# Разделение данных на обучающие/тестовые наборы\n",
    "diabetes_X_train = diabetes_X[:-20]\n",
    "diabetes_X_test = diabetes_X[-20:]\n",
    "\n",
    "diabetes_y_train = diabetes.target[:-20]\n",
    "diabetes_y_test = diabetes.target[-20:]\n",
    "\n",
    "# 3. Реализация метода линейной регрессии с использованием Scikit-Learn\n",
    "regr = linear_model.LinearRegression()\n",
    "regr.fit(diabetes_X_train, diabetes_y_train)\n",
    "diabetes_y_pred = regr.predict(diabetes_X_test)\n",
    "\n",
    "# Выводим коэффициенты\n",
    "print('Coefficients (Scikit-Learn): \\n', regr.coef_)\n",
    "\n",
    "# Реализация собственного метода линейной регрессии\n",
    "a, b = least_squares(diabetes_X_train.flatten(), diabetes_y_train)\n",
    "print('Coefficients (Your Method): \\n', a, b)\n",
    "\n",
    "# 4. Вывод таблицы с результатами предсказаний\n",
    "df = pd.DataFrame({'Actual': diabetes_y_test, 'Predicted (Scikit-Learn)': diabetes_y_pred})\n",
    "print(df)\n",
    "\n",
    "# Отрисовка данных и регрессионной прямой\n",
    "plt.scatter(diabetes_X_test, diabetes_y_test,  color='black')\n",
    "plt.plot(diabetes_X_test, diabetes_y_pred, color='blue', linewidth=3)\n",
    "\n",
    "plt.show()\n"
   ]
  },
  {
   "cell_type": "code",
   "execution_count": null,
   "id": "5a69139c",
   "metadata": {},
   "outputs": [],
   "source": []
  }
 ],
 "metadata": {
  "kernelspec": {
   "display_name": "Python 3 (ipykernel)",
   "language": "python",
   "name": "python3"
  },
  "language_info": {
   "codemirror_mode": {
    "name": "ipython",
    "version": 3
   },
   "file_extension": ".py",
   "mimetype": "text/x-python",
   "name": "python",
   "nbconvert_exporter": "python",
   "pygments_lexer": "ipython3",
   "version": "3.10.2"
  }
 },
 "nbformat": 4,
 "nbformat_minor": 5
}
