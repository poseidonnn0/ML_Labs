{
 "cells": [
  {
   "cell_type": "code",
   "execution_count": 10,
   "id": "6c2b1063",
   "metadata": {},
   "outputs": [
    {
     "name": "stdout",
     "output_type": "stream",
     "text": [
      "Точность модели: 0.7297297297297297\n",
      "Точность модели без признака Embarked: 0.7297297297297297\n"
     ]
    }
   ],
   "source": [
    "import pandas as pd\n",
    "from sklearn.model_selection import train_test_split\n",
    "from sklearn.linear_model import LogisticRegression\n",
    "from sklearn.metrics import accuracy_score\n",
    "\n",
    "# Загрузка данных\n",
    "df = pd.read_csv('titanic.csv')\n",
    "\n",
    "# Предобработка данных\n",
    "df.dropna(inplace=True)\n",
    "df.drop(columns=['Name', 'Ticket', 'Cabin', 'PassengerId'], inplace=True)\n",
    "df['Sex'] = df['Sex'].map({'male': 0, 'female': 1})\n",
    "df['Embarked'] = df['Embarked'].map({'C': 1, 'Q': 2, 'S': 3})\n",
    "\n",
    "# Разделение данных на обучающую и тестовую выборки\n",
    "X = df.drop('Survived', axis=1)\n",
    "y = df['Survived']\n",
    "X_train, X_test, y_train, y_test = train_test_split(X, y, test_size=0.2, random_state=42)\n",
    "\n",
    "# Обучение модели логистической регрессии\n",
    "model = LogisticRegression(max_iter=1000)\n",
    "model.fit(X_train, y_train)\n",
    "\n",
    "# Предсказание на тестовой выборке\n",
    "y_pred = model.predict(X_test)\n",
    "\n",
    "# Оценка точности модели\n",
    "accuracy = accuracy_score(y_test, y_pred)\n",
    "print(f'Точность модели: {accuracy}')\n",
    "\n",
    "# Оценка влияния признака Embarked на точность модели\n",
    "model_without_embarked = LogisticRegression()\n",
    "model_without_embarked.fit(X_train.drop('Embarked', axis=1), y_train)\n",
    "y_pred_without_embarked = model_without_embarked.predict(X_test.drop('Embarked', axis=1))\n",
    "accuracy_without_embarked = accuracy_score(y_test, y_pred_without_embarked)\n",
    "print(f'Точность модели без признака Embarked: {accuracy_without_embarked}')\n"
   ]
  },
  {
   "cell_type": "code",
   "execution_count": null,
   "id": "59d91de5",
   "metadata": {},
   "outputs": [],
   "source": []
  }
 ],
 "metadata": {
  "kernelspec": {
   "display_name": "Python 3 (ipykernel)",
   "language": "python",
   "name": "python3"
  },
  "language_info": {
   "codemirror_mode": {
    "name": "ipython",
    "version": 3
   },
   "file_extension": ".py",
   "mimetype": "text/x-python",
   "name": "python",
   "nbconvert_exporter": "python",
   "pygments_lexer": "ipython3",
   "version": "3.10.2"
  }
 },
 "nbformat": 4,
 "nbformat_minor": 5
}
